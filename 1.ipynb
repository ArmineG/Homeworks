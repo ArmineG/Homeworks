{
 "cells": [
  {
   "cell_type": "code",
   "execution_count": 1,
   "metadata": {},
   "outputs": [
    {
     "name": "stdout",
     "output_type": "stream",
     "text": [
      "project: cake\n",
      "difficulty: 5\n"
     ]
    }
   ],
   "source": [
    "project = \"cake\"\n",
    "difficulty = 5\n",
    "print (\"project:\", project)\n",
    "print (\"difficulty:\", difficulty)"
   ]
  },
  {
   "cell_type": "code",
   "execution_count": 2,
   "metadata": {},
   "outputs": [
    {
     "name": "stdout",
     "output_type": "stream",
     "text": [
      "False\n",
      "True\n",
      "True\n",
      "True\n"
     ]
    }
   ],
   "source": [
    "ingredients=[\"flour\",\n",
    "\"butter\", \"sugar\", \"eggs\", \"cocoa powder\", \"baking powder\"]\n",
    "print(\"Apples\" in ingredients)\n",
    "print(\"butter\" in ingredients)\n",
    "print(\"eggs\" in ingredients) or (\"margarine\" in ingredients)\n",
    "print(\"eggs\" in ingredients) and (\"margarine\" in ingredients)"
   ]
  },
  {
   "cell_type": "code",
   "execution_count": 3,
   "metadata": {},
   "outputs": [
    {
     "name": "stdout",
     "output_type": "stream",
     "text": [
      "flour - 175\n",
      "butter - 175\n",
      "sugar - 100g\n",
      "eggs- 2\n",
      "cocoa_powder - 1ts\n",
      "baking_soda - 0.5\n"
     ]
    }
   ],
   "source": [
    "flour = 175\n",
    "butter = 175\n",
    "sugar = \"100g\"\n",
    "eggs = 2\n",
    "cocoa_powder = \"1ts\"\n",
    "baking_powder = 0.5\n",
    "print (\"flour -\", flour)\n",
    "print (\"butter -\", butter)\n",
    "print (\"sugar -\", sugar)\n",
    "print (\"eggs-\", eggs)\n",
    "print (\"cocoa_powder -\", cocoa_powder)\n",
    "print (\"baking_soda -\", baking_powder)"
   ]
  },
  {
   "cell_type": "code",
   "execution_count": 4,
   "metadata": {},
   "outputs": [
    {
     "name": "stdout",
     "output_type": "stream",
     "text": [
      "1005.6666666666666\n",
      "852\n"
     ]
    }
   ],
   "source": [
    "a = 15\n",
    "b = 8\n",
    "c = 2\n",
    "print (5*a**2 - a*b + a%2 - 5/a)\n",
    "print (b**3 + 3*a*b - 10*c)"
   ]
  },
  {
   "cell_type": "code",
   "execution_count": 16,
   "metadata": {},
   "outputs": [
    {
     "name": "stdout",
     "output_type": "stream",
     "text": [
      "2001-08-10\n",
      "Year:  2001\n",
      "Month:  8\n",
      "Day:  10\n",
      "Day of the week (version 0):  5\n"
     ]
    }
   ],
   "source": [
    "import time\n",
    "import datetime\n",
    "import calendar\n",
    "d = datetime.date(2001, 8, 10)\n",
    "print(d)\n",
    "print('Year: ', d.year)\n",
    "print('Month: ', d.month)\n",
    "print('Day: ', d.day)\n",
    "print('Day of the week (version 0): ', d.isoweekday())\n"
   ]
  },
  {
   "cell_type": "code",
   "execution_count": 17,
   "metadata": {},
   "outputs": [
    {
     "name": "stdout",
     "output_type": "stream",
     "text": [
      "Days until my next birthday:  321 days, 0:00:00\n"
     ]
    }
   ],
   "source": [
    "bday = datetime.date(2019, 8, 10)\n",
    "tday = datetime.date.today()\n",
    "till_bday = bday - tday\n",
    "print(\"Days until my next birthday: \", till_bday)"
   ]
  },
  {
   "cell_type": "code",
   "execution_count": 18,
   "metadata": {},
   "outputs": [
    {
     "name": "stdout",
     "output_type": "stream",
     "text": [
      "Here is the calendar:\n",
      "      May 2017\n",
      "Mo Tu We Th Fr Sa Su\n",
      " 1  2  3  4  5  6  7\n",
      " 8  9 10 11 12 13 14\n",
      "15 16 17 18 19 20 21\n",
      "22 23 24 25 26 27 28\n",
      "29 30 31\n",
      "\n"
     ]
    },
    {
     "data": {
      "text/plain": [
       "str"
      ]
     },
     "execution_count": 18,
     "metadata": {},
     "output_type": "execute_result"
    }
   ],
   "source": [
    "cal = calendar.month(2017, 5)\n",
    "print (\"Here is the calendar:\")\n",
    "print (cal)\n",
    "type(cal)"
   ]
  },
  {
   "cell_type": "code",
   "execution_count": 21,
   "metadata": {},
   "outputs": [
    {
     "name": "stdout",
     "output_type": "stream",
     "text": [
      "Date today:  2018-09-23\n",
      "1 day, 0:00:00\n"
     ]
    },
    {
     "ename": "NameError",
     "evalue": "name 'tdelta' is not defined",
     "output_type": "error",
     "traceback": [
      "\u001b[1;31m---------------------------------------------------------------------------\u001b[0m",
      "\u001b[1;31mNameError\u001b[0m                                 Traceback (most recent call last)",
      "\u001b[1;32m<ipython-input-21-7686adc62db3>\u001b[0m in \u001b[0;36m<module>\u001b[1;34m()\u001b[0m\n\u001b[0;32m      3\u001b[0m \u001b[0myesterday\u001b[0m \u001b[1;33m=\u001b[0m \u001b[0mdatetime\u001b[0m\u001b[1;33m.\u001b[0m\u001b[0mtimedelta\u001b[0m\u001b[1;33m(\u001b[0m\u001b[0mdays\u001b[0m \u001b[1;33m=\u001b[0m \u001b[1;36m1\u001b[0m\u001b[1;33m)\u001b[0m\u001b[1;33m\u001b[0m\u001b[0m\n\u001b[0;32m      4\u001b[0m \u001b[0mprint\u001b[0m\u001b[1;33m(\u001b[0m\u001b[0myesterday\u001b[0m\u001b[1;33m)\u001b[0m\u001b[1;33m\u001b[0m\u001b[0m\n\u001b[1;32m----> 5\u001b[1;33m \u001b[0mprint\u001b[0m\u001b[1;33m(\u001b[0m\u001b[1;34m'yesterday: '\u001b[0m\u001b[1;33m,\u001b[0m \u001b[0mtday\u001b[0m \u001b[1;33m-\u001b[0m \u001b[0mtdelta\u001b[0m\u001b[1;33m)\u001b[0m\u001b[1;33m\u001b[0m\u001b[0m\n\u001b[0m\u001b[0;32m      6\u001b[0m \u001b[0mtdelta1\u001b[0m \u001b[1;33m=\u001b[0m \u001b[0mdatetime\u001b[0m\u001b[1;33m.\u001b[0m\u001b[0mtimedelta\u001b[0m\u001b[1;33m(\u001b[0m\u001b[0mdays\u001b[0m \u001b[1;33m=\u001b[0m \u001b[1;36m2\u001b[0m\u001b[1;33m)\u001b[0m\u001b[1;33m\u001b[0m\u001b[0m\n\u001b[0;32m      7\u001b[0m \u001b[0mprint\u001b[0m\u001b[1;33m(\u001b[0m\u001b[0mtdelta1\u001b[0m\u001b[1;33m)\u001b[0m\u001b[1;33m\u001b[0m\u001b[0m\n",
      "\u001b[1;31mNameError\u001b[0m: name 'tdelta' is not defined"
     ]
    }
   ],
   "source": [
    "tday = datetime.date.today()\n",
    "print('Date today: ', tday)\n",
    "yesterday = datetime.timedelta(days = 1)\n",
    "print(yesterday)\n",
    "print('yesterday: ', tday - tdelta)\n",
    "tdelta1 = datetime.timedelta(days = 2)\n",
    "print(tdelta1)\n",
    "print('yesterday + 2 days: ', tday-tdelta+tdelta1)\n"
   ]
  },
  {
   "cell_type": "code",
   "execution_count": 20,
   "metadata": {},
   "outputs": [
    {
     "name": "stdout",
     "output_type": "stream",
     "text": [
      "Date today:  2018-09-23\n",
      "1 day, 0:00:00\n"
     ]
    },
    {
     "ename": "NameError",
     "evalue": "name 'tdelta' is not defined",
     "output_type": "error",
     "traceback": [
      "\u001b[1;31m---------------------------------------------------------------------------\u001b[0m",
      "\u001b[1;31mNameError\u001b[0m                                 Traceback (most recent call last)",
      "\u001b[1;32m<ipython-input-20-305a484d2ade>\u001b[0m in \u001b[0;36m<module>\u001b[1;34m()\u001b[0m\n\u001b[0;32m      3\u001b[0m \u001b[0myesterday\u001b[0m \u001b[1;33m=\u001b[0m \u001b[0mdatetime\u001b[0m\u001b[1;33m.\u001b[0m\u001b[0mtimedelta\u001b[0m\u001b[1;33m(\u001b[0m\u001b[0mdays\u001b[0m \u001b[1;33m=\u001b[0m \u001b[1;36m1\u001b[0m\u001b[1;33m)\u001b[0m\u001b[1;33m\u001b[0m\u001b[0m\n\u001b[0;32m      4\u001b[0m \u001b[0mprint\u001b[0m\u001b[1;33m(\u001b[0m\u001b[0myesterday\u001b[0m\u001b[1;33m)\u001b[0m\u001b[1;33m\u001b[0m\u001b[0m\n\u001b[1;32m----> 5\u001b[1;33m \u001b[0mprint\u001b[0m\u001b[1;33m(\u001b[0m\u001b[1;34m'yesterday: '\u001b[0m\u001b[1;33m,\u001b[0m \u001b[0mtday\u001b[0m \u001b[1;33m-\u001b[0m \u001b[0mtdelta\u001b[0m\u001b[1;33m)\u001b[0m\u001b[1;33m\u001b[0m\u001b[0m\n\u001b[0m\u001b[0;32m      6\u001b[0m \u001b[0mtdelta2\u001b[0m \u001b[1;33m=\u001b[0m \u001b[0mdatetime\u001b[0m\u001b[1;33m.\u001b[0m\u001b[0mtimedelta\u001b[0m\u001b[1;33m(\u001b[0m\u001b[0mdays\u001b[0m \u001b[1;33m=\u001b[0m \u001b[1;36m3\u001b[0m\u001b[1;33m)\u001b[0m\u001b[1;33m\u001b[0m\u001b[0m\n\u001b[0;32m      7\u001b[0m \u001b[0mprint\u001b[0m\u001b[1;33m(\u001b[0m\u001b[0mtdelta2\u001b[0m\u001b[1;33m)\u001b[0m\u001b[1;33m\u001b[0m\u001b[0m\n",
      "\u001b[1;31mNameError\u001b[0m: name 'tdelta' is not defined"
     ]
    }
   ],
   "source": [
    "tday = datetime.date.today()\n",
    "print('Date today: ', tday)\n",
    "yesterday = datetime.timedelta(days = 1)\n",
    "print(yesterday)\n",
    "print('yesterday: ', tday - tdelta)\n",
    "tdelta2 = datetime.timedelta(days = 3)\n",
    "print(tdelta2)\n",
    "print('yesterday - 3 days:', tday-tdelta-tdelta2)\n"
   ]
  },
  {
   "cell_type": "code",
   "execution_count": 15,
   "metadata": {},
   "outputs": [
    {
     "name": "stdout",
     "output_type": "stream",
     "text": [
      "False\n",
      "False\n",
      "True\n",
      "True\n"
     ]
    }
   ],
   "source": [
    "a = 3\n",
    "b = 5\n",
    "c = 6\n",
    "d = 8\n",
    "print(a % 2 == 0)\n",
    "print(b % 2 == 0)\n",
    "print(c % 2 == 0)\n",
    "print(d % 2 == 0)\n"
   ]
  },
  {
   "cell_type": "code",
   "execution_count": null,
   "metadata": {},
   "outputs": [],
   "source": []
  }
 ],
 "metadata": {
  "kernelspec": {
   "display_name": "Python 3",
   "language": "python",
   "name": "python3"
  },
  "language_info": {
   "codemirror_mode": {
    "name": "ipython",
    "version": 3
   },
   "file_extension": ".py",
   "mimetype": "text/x-python",
   "name": "python",
   "nbconvert_exporter": "python",
   "pygments_lexer": "ipython3",
   "version": "3.6.5"
  }
 },
 "nbformat": 4,
 "nbformat_minor": 2
}
