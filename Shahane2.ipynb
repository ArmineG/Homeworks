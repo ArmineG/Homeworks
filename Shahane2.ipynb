{
 "cells": [
  {
   "cell_type": "code",
   "execution_count": null,
   "metadata": {},
   "outputs": [],
   "source": [
    "#Lists"
   ]
  },
  {
   "cell_type": "code",
   "execution_count": 50,
   "metadata": {},
   "outputs": [
    {
     "name": "stdout",
     "output_type": "stream",
     "text": [
      "[1, 4, 5, 7, 8, -2, 0, -1]\n"
     ]
    },
    {
     "data": {
      "text/plain": [
       "5"
      ]
     },
     "execution_count": 50,
     "metadata": {},
     "output_type": "execute_result"
    }
   ],
   "source": [
    "a = [1, 4, 5, 7, 8, -2, 0, -1]\n",
    "print(a)\n",
    "a[2]"
   ]
  },
  {
   "cell_type": "code",
   "execution_count": 51,
   "metadata": {},
   "outputs": [
    {
     "data": {
      "text/plain": [
       "8"
      ]
     },
     "execution_count": 51,
     "metadata": {},
     "output_type": "execute_result"
    }
   ],
   "source": [
    "a[4]"
   ]
  },
  {
   "cell_type": "code",
   "execution_count": 52,
   "metadata": {},
   "outputs": [
    {
     "name": "stdout",
     "output_type": "stream",
     "text": [
      "a_sorted: [8, 7, 5, 4, 1, 0, -1, -2]\n"
     ]
    }
   ],
   "source": [
    "a.sort(reverse = True)\n",
    "print(\"a_sorted:\", a)"
   ]
  },
  {
   "cell_type": "code",
   "execution_count": 53,
   "metadata": {},
   "outputs": [
    {
     "name": "stdout",
     "output_type": "stream",
     "text": [
      "a_sorted: [8, 7, 5, 4, 1, 0, -1, -2]\n"
     ]
    },
    {
     "data": {
      "text/plain": [
       "5"
      ]
     },
     "execution_count": 53,
     "metadata": {},
     "output_type": "execute_result"
    }
   ],
   "source": [
    "a.sort(reverse = True)\n",
    "print(\"a_sorted:\", a)\n",
    "a.pop(2)"
   ]
  },
  {
   "cell_type": "code",
   "execution_count": 54,
   "metadata": {},
   "outputs": [
    {
     "data": {
      "text/plain": [
       "1"
      ]
     },
     "execution_count": 54,
     "metadata": {},
     "output_type": "execute_result"
    }
   ],
   "source": [
    "a.pop(3)"
   ]
  },
  {
   "cell_type": "code",
   "execution_count": 36,
   "metadata": {},
   "outputs": [
    {
     "data": {
      "text/plain": [
       "[4, 5]"
      ]
     },
     "execution_count": 36,
     "metadata": {},
     "output_type": "execute_result"
    }
   ],
   "source": [
    "a = [1, 4, 5, 7, 8, -2, 0, -1]\n",
    "a[1:3]"
   ]
  },
  {
   "cell_type": "code",
   "execution_count": 34,
   "metadata": {},
   "outputs": [
    {
     "data": {
      "text/plain": [
       "[5, 7, 8, -2]"
      ]
     },
     "execution_count": 34,
     "metadata": {},
     "output_type": "execute_result"
    }
   ],
   "source": [
    "a[2:6]"
   ]
  },
  {
   "cell_type": "code",
   "execution_count": 37,
   "metadata": {},
   "outputs": [
    {
     "data": {
      "text/plain": [
       "2"
      ]
     },
     "execution_count": 37,
     "metadata": {},
     "output_type": "execute_result"
    }
   ],
   "source": [
    "a.index(5)"
   ]
  },
  {
   "cell_type": "code",
   "execution_count": 60,
   "metadata": {},
   "outputs": [
    {
     "name": "stdout",
     "output_type": "stream",
     "text": [
      "b_list sorted: ['Broccoli', 'Carrot', 'Lemon', 'Orange', 'Potatoes', 'Sausages', 'grapes', 'tomatoes']\n"
     ]
    }
   ],
   "source": [
    "b_list = [\"grapes\", \"Potatoes\",\n",
    "\"tomatoes\", \"Orange\", \"Lemon\", \"Broccoli\", \"Carrot\", \"Sausages\"]\n",
    "b_list.sort()\n",
    "print(\"b_list sorted:\", b_list)"
   ]
  },
  {
   "cell_type": "code",
   "execution_count": 64,
   "metadata": {},
   "outputs": [
    {
     "name": "stdout",
     "output_type": "stream",
     "text": [
      "c: [7, 4, 'Potatoes', 'Sausages']\n"
     ]
    }
   ],
   "source": [
    "print(\"c:\", a[1:3]+b_list[4:6])"
   ]
  },
  {
   "cell_type": "code",
   "execution_count": null,
   "metadata": {},
   "outputs": [],
   "source": [
    "#sets"
   ]
  },
  {
   "cell_type": "code",
   "execution_count": 69,
   "metadata": {},
   "outputs": [
    {
     "name": "stdout",
     "output_type": "stream",
     "text": [
      "set_a:  {False, True, 8, 'Chocolate', 'Cookies', -5, -3}\n"
     ]
    }
   ],
   "source": [
    "a1=[\"Cookies\", \"Chocolate\",\n",
    "8, True, -3, -5, \"Chocolate\", 8, False, 8]\n",
    "set_a=set(a1)\n",
    "print('set_a: ', set_a)"
   ]
  },
  {
   "cell_type": "code",
   "execution_count": 70,
   "metadata": {},
   "outputs": [
    {
     "name": "stdout",
     "output_type": "stream",
     "text": [
      "set_b: {False, True, 'Milk', 8, 10, 14, 'Chocolate', 'Jelly'}\n"
     ]
    }
   ],
   "source": [
    "b1=[8, True, 10, 14,\n",
    "\"Chocolate\", \"Milk\", \"Jelly\", True, False, True]\n",
    "set_b=set(b1)\n",
    "print('set_b:', set_b)"
   ]
  },
  {
   "cell_type": "code",
   "execution_count": 74,
   "metadata": {},
   "outputs": [
    {
     "name": "stdout",
     "output_type": "stream",
     "text": [
      "union_ab: {False, True, 'Milk', 8, 10, 14, 'Chocolate', 'Jelly', 'Cookies', -5, -3}\n",
      "intersection_ab: {False, True, 8, 'Chocolate'}\n"
     ]
    }
   ],
   "source": [
    "print(\"union_ab:\", set_a.union(set_b))\n",
    "print(\"intersection_ab:\", set_a.intersection(set_b))"
   ]
  },
  {
   "cell_type": "code",
   "execution_count": 97,
   "metadata": {},
   "outputs": [
    {
     "name": "stdout",
     "output_type": "stream",
     "text": [
      "{False, True, 'Kit-kat', 'Milk', 8, 'Oreo', 10, 14, 'Chocolate', 'Jelly', 'Cookies', -5, -3}\n"
     ]
    }
   ],
   "source": [
    "union_ab = {False, True, 'Milk', 8, 10, 14, 'Chocolate', 'Jelly', 'Cookies', -5, -3}\n",
    "union_ab.add('Kit-kat')\n",
    "union_ab.add('Oreo')\n",
    "print(union_ab)"
   ]
  },
  {
   "cell_type": "code",
   "execution_count": 98,
   "metadata": {},
   "outputs": [
    {
     "name": "stdout",
     "output_type": "stream",
     "text": [
      "new_set: {False, True, 'Kit-kat', 'Milk', 8, 'Oreo', 10, 14, 'Chocolate', 'Jelly', 'Cookies', -5, -3}\n"
     ]
    }
   ],
   "source": [
    "union_ab = {False, True, 'Kit-kat', 'Milk', 8, 'Oreo', 10, 14, 'Chocolate', 'Jelly', 'Cookies', -5, -3}\n",
    "intersection_ab={False, True, 8, 'Chocolate'}\n",
    "print(\"new_set:\", union_ab | intersection_ab)"
   ]
  },
  {
   "cell_type": "code",
   "execution_count": 101,
   "metadata": {},
   "outputs": [
    {
     "data": {
      "text/plain": [
       "True"
      ]
     },
     "execution_count": 101,
     "metadata": {},
     "output_type": "execute_result"
    }
   ],
   "source": [
    "new_set = {False, True, 'Kit-kat', 'Milk', 8, 'Oreo', 10, 14, 'Chocolate', 'Jelly', 'Cookies', -5, -3}\n",
    "'Chocolate' in new_set"
   ]
  },
  {
   "cell_type": "code",
   "execution_count": 102,
   "metadata": {},
   "outputs": [
    {
     "name": "stdout",
     "output_type": "stream",
     "text": [
      "{False, True, 'Kit-kat', 'Milk', 8, 10, 14, 'Chocolate', 'Jelly', 'Cookies', -5, -3}\n"
     ]
    }
   ],
   "source": [
    "new_set.discard('Oreo')\n",
    "print(new_set)"
   ]
  },
  {
   "cell_type": "code",
   "execution_count": null,
   "metadata": {},
   "outputs": [],
   "source": [
    "#Tuples"
   ]
  },
  {
   "cell_type": "code",
   "execution_count": 120,
   "metadata": {},
   "outputs": [
    {
     "name": "stdout",
     "output_type": "stream",
     "text": [
      "(1, 1, 2)\n",
      "2\n"
     ]
    }
   ],
   "source": [
    "t1 = (1, True, \"a\", -2, \"Anna\")\n",
    "t2 = (1, 2, 3, 4, 5)\n",
    "t3 = t1[0:1] + t2[0:2]\n",
    "print(t3)\n",
    "print(t3[2])"
   ]
  },
  {
   "cell_type": "code",
   "execution_count": 123,
   "metadata": {},
   "outputs": [
    {
     "name": "stdout",
     "output_type": "stream",
     "text": [
      "t4[0][1]:  3\n"
     ]
    }
   ],
   "source": [
    "t4 = ([(1,3,5), (8,9), (\"Anna\", \"Bob\", \"Alice\")])\n",
    "print(\"t4[0][1]: \", t4[0][1])"
   ]
  },
  {
   "cell_type": "code",
   "execution_count": null,
   "metadata": {},
   "outputs": [],
   "source": []
  }
 ],
 "metadata": {
  "kernelspec": {
   "display_name": "Python 3",
   "language": "python",
   "name": "python3"
  },
  "language_info": {
   "codemirror_mode": {
    "name": "ipython",
    "version": 3
   },
   "file_extension": ".py",
   "mimetype": "text/x-python",
   "name": "python",
   "nbconvert_exporter": "python",
   "pygments_lexer": "ipython3",
   "version": "3.6.5"
  }
 },
 "nbformat": 4,
 "nbformat_minor": 2
}
