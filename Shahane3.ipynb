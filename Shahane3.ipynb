{
 "cells": [
  {
   "cell_type": "code",
   "execution_count": 1,
   "metadata": {},
   "outputs": [
    {
     "name": "stdout",
     "output_type": "stream",
     "text": [
      "Index of tupler 6\n"
     ]
    }
   ],
   "source": [
    "list1 = [3, 6, True, True, -1, \"abc\", (1, 2), [2, 3], 6]\n",
    "for a in list1:\n",
    "    if type(a) is tuple:\n",
    "        print(\"Index of tupler %d\" % list1.index(a))\n",
    "        break\n",
    "    "
   ]
  },
  {
   "cell_type": "code",
   "execution_count": 2,
   "metadata": {},
   "outputs": [
    {
     "name": "stdout",
     "output_type": "stream",
     "text": [
      "Username: Batman\n",
      "Password: I am Batman\n",
      "Welcome Batman\n"
     ]
    }
   ],
   "source": [
    "while True:\n",
    "    username = input (\"Username: \")\n",
    "    password = input (\"Password: \")\n",
    "    if username == 'Batman' and password == 'I am Batman':\n",
    "        print(\"Welcome %s\" % username)\n",
    "        break\n",
    "    else:\n",
    "        print(\"Username or Password is incorrect\")"
   ]
  },
  {
   "cell_type": "code",
   "execution_count": 12,
   "metadata": {},
   "outputs": [
    {
     "name": "stdout",
     "output_type": "stream",
     "text": [
      "before [[0, 0, 0, 0], [0, 0, 0, 0], [0, 0, 0, 0], [0, 0, 0, 0]]\n",
      "after [[1, 0, 0, 0], [0, 1, 0, 0], [0, 0, 1, 0], [0, 0, 0, 1]]\n"
     ]
    }
   ],
   "source": [
    "listA = [[0] * 4 for i in range(4)]\n",
    "print(\"before\",listA)\n",
    "for i in range(len(listA)):\n",
    "    listA[i][i] = 1\n",
    "print(\"after\",listA)"
   ]
  },
  {
   "cell_type": "code",
   "execution_count": null,
   "metadata": {},
   "outputs": [],
   "source": []
  }
 ],
 "metadata": {
  "kernelspec": {
   "display_name": "Python 3",
   "language": "python",
   "name": "python3"
  },
  "language_info": {
   "codemirror_mode": {
    "name": "ipython",
    "version": 3
   },
   "file_extension": ".py",
   "mimetype": "text/x-python",
   "name": "python",
   "nbconvert_exporter": "python",
   "pygments_lexer": "ipython3",
   "version": "3.6.5"
  }
 },
 "nbformat": 4,
 "nbformat_minor": 2
}
