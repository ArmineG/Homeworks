{
 "cells": [
  {
   "cell_type": "code",
   "execution_count": 1,
   "metadata": {},
   "outputs": [
    {
     "name": "stdout",
     "output_type": "stream",
     "text": [
      "Welcome dear John\n",
      "Creating time is: 0.0\n",
      "Bye everyone!\n",
      "Bye everyone!\n",
      "My favourite number is 11\n",
      "My favourite number is 8\n"
     ]
    }
   ],
   "source": [
    "import time\n",
    "\n",
    "def dec(func):\n",
    "    def wrapper(*args):\n",
    "        t1 = time.time()\n",
    "        func(*args)\n",
    "        t2 = time.time()\n",
    "        print(\"Creating time is:\", t2-t1)\n",
    "    return wrapper\n",
    "class Person:\n",
    "    def __init__(self,\n",
    "                 name = 'Garnik',\n",
    "                 last_name = 'Martirosyan',\n",
    "                 age = 18,\n",
    "                 gender = 'male',\n",
    "                 student = True):\n",
    "        self.name = name\n",
    "        self.last_name = last_name\n",
    "        self.age = age\n",
    "        self.gender = gender\n",
    "        self.student = student\n",
    "\n",
    "    @dec\n",
    "    def greeting(self, second_person):\n",
    "        print(\"Welcome dear\", second_person.name)\n",
    "\n",
    "    def Goodbye(self):\n",
    "        print(\"Bye everyone!\")\n",
    "\n",
    "    def Favorite_num(self, num1):\n",
    "        print(\"My favourite number is\", num1)\n",
    "\n",
    "p1 = Person()\n",
    "p2 = Person()\n",
    "p2.greeting(p1)\n",
    "\n",
    "p1.Goodbye()\n",
    "p2.Goodbye()\n",
    "\n",
    "p1.Favorite_num(11)\n",
    "p1.Favorite_num(8)"
   ]
  },
  {
   "cell_type": "code",
   "execution_count": null,
   "metadata": {},
   "outputs": [],
   "source": []
  }
 ],
 "metadata": {
  "kernelspec": {
   "display_name": "Python 3",
   "language": "python",
   "name": "python3"
  },
  "language_info": {
   "codemirror_mode": {
    "name": "ipython",
    "version": 3
   },
   "file_extension": ".py",
   "mimetype": "text/x-python",
   "name": "python",
   "nbconvert_exporter": "python",
   "pygments_lexer": "ipython3",
   "version": "3.6.5"
  }
 },
 "nbformat": 4,
 "nbformat_minor": 2
}
