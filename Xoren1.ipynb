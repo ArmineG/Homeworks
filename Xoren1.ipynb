{
 "cells": [
  {
   "cell_type": "code",
   "execution_count": 6,
   "metadata": {},
   "outputs": [
    {
     "data": {
      "text/plain": [
       "20"
      ]
     },
     "execution_count": 6,
     "metadata": {},
     "output_type": "execute_result"
    }
   ],
   "source": [
    "def centuryFromYear(year):\n",
    "    if year % 100 == 0:\n",
    "        return year // 100\n",
    "    else:\n",
    "        return int(year // 100) + 1\n",
    "centuryFromYear(2000) "
   ]
  },
  {
   "cell_type": "code",
   "execution_count": 18,
   "metadata": {},
   "outputs": [
    {
     "data": {
      "text/plain": [
       "True"
      ]
     },
     "execution_count": 18,
     "metadata": {},
     "output_type": "execute_result"
    }
   ],
   "source": [
    "def checkPalindrome(inputString):\n",
    "    return inputString == inputString[::-1]\n",
    "checkPalindrome(\"anna\")\n"
   ]
  },
  {
   "cell_type": "code",
   "execution_count": 1,
   "metadata": {},
   "outputs": [
    {
     "ename": "SyntaxError",
     "evalue": "invalid syntax (<ipython-input-1-188800abdaa9>, line 2)",
     "output_type": "error",
     "traceback": [
      "\u001b[1;36m  File \u001b[1;32m\"<ipython-input-1-188800abdaa9>\"\u001b[1;36m, line \u001b[1;32m2\u001b[0m\n\u001b[1;33m    def adjacentElementsProduct(inputArray)\u001b[0m\n\u001b[1;37m                                           ^\u001b[0m\n\u001b[1;31mSyntaxError\u001b[0m\u001b[1;31m:\u001b[0m invalid syntax\n"
     ]
    }
   ],
   "source": [
    "inputArray = [3, 6, -2 , -5, 7, 3]\n",
    "def adjacentElementsProduct(inputArray)\n"
   ]
  },
  {
   "cell_type": "code",
   "execution_count": 12,
   "metadata": {},
   "outputs": [
    {
     "data": {
      "text/plain": [
       "21"
      ]
     },
     "execution_count": 12,
     "metadata": {},
     "output_type": "execute_result"
    }
   ],
   "source": [
    "inputArray = [3, 6, -2 , -5, 7, 3]\n",
    "def adjacentElementsProduct(inputArray):\n",
    "    prev = inputArray[0]\n",
    "    largest_product = prev * inputArray[1]\n",
    "    for i in inputArray[1::]:\n",
    "        if((prev * i) > largest_product):\n",
    "            largest_product = prev * i\n",
    "        \n",
    "        prev = i\n",
    "    else:\n",
    "        return largest_product\n",
    "adjacentElementsProduct(inputArray)"
   ]
  },
  {
   "cell_type": "code",
   "execution_count": null,
   "metadata": {},
   "outputs": [],
   "source": []
  }
 ],
 "metadata": {
  "kernelspec": {
   "display_name": "Python 3",
   "language": "python",
   "name": "python3"
  },
  "language_info": {
   "codemirror_mode": {
    "name": "ipython",
    "version": 3
   },
   "file_extension": ".py",
   "mimetype": "text/x-python",
   "name": "python",
   "nbconvert_exporter": "python",
   "pygments_lexer": "ipython3",
   "version": "3.6.5"
  }
 },
 "nbformat": 4,
 "nbformat_minor": 2
}
