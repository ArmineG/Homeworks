{
 "cells": [
  {
   "cell_type": "code",
   "execution_count": 11,
   "metadata": {},
   "outputs": [],
   "source": [
    "class Person:\n",
    "    def __init__ (self, name, last, age, gender, student):\n",
    "        self.name = \"Armine\"\n",
    "        self.last = \"Gevorgyan\"\n",
    "        self.age = 17\n",
    "        self.gender = female\n",
    "        self.student = True or False\n",
    "     \n",
    "\n"
   ]
  },
  {
   "cell_type": "code",
   "execution_count": 13,
   "metadata": {},
   "outputs": [
    {
     "ename": "NameError",
     "evalue": "name 'emp1' is not defined",
     "output_type": "error",
     "traceback": [
      "\u001b[1;31m---------------------------------------------------------------------------\u001b[0m",
      "\u001b[1;31mNameError\u001b[0m                                 Traceback (most recent call last)",
      "\u001b[1;32m<ipython-input-13-92f15506b264>\u001b[0m in \u001b[0;36m<module>\u001b[1;34m()\u001b[0m\n\u001b[1;32m----> 1\u001b[1;33m \u001b[0memp1\u001b[0m\u001b[1;33m.\u001b[0m\u001b[0mname\u001b[0m \u001b[1;33m=\u001b[0m \u001b[1;34m\"Armine\"\u001b[0m\u001b[1;33m\u001b[0m\u001b[0m\n\u001b[0m\u001b[0;32m      2\u001b[0m \u001b[0memp1\u001b[0m\u001b[1;33m.\u001b[0m\u001b[0mlast\u001b[0m \u001b[1;33m=\u001b[0m \u001b[1;34m\"Gevorgyan\"\u001b[0m\u001b[1;33m\u001b[0m\u001b[0m\n\u001b[0;32m      3\u001b[0m \u001b[0memp1\u001b[0m\u001b[1;33m.\u001b[0m\u001b[0mage\u001b[0m \u001b[1;33m=\u001b[0m \u001b[1;36m17\u001b[0m\u001b[1;33m\u001b[0m\u001b[0m\n\u001b[0;32m      4\u001b[0m \u001b[0memp1\u001b[0m\u001b[1;33m.\u001b[0m\u001b[0mgender\u001b[0m \u001b[1;33m=\u001b[0m \u001b[0mfemale\u001b[0m\u001b[1;33m\u001b[0m\u001b[0m\n\u001b[0;32m      5\u001b[0m \u001b[0memp1\u001b[0m\u001b[1;33m.\u001b[0m\u001b[0mstudent\u001b[0m \u001b[1;33m=\u001b[0m \u001b[1;32mTrue\u001b[0m \u001b[1;32mor\u001b[0m \u001b[1;32mFalse\u001b[0m\u001b[1;33m\u001b[0m\u001b[0m\n",
      "\u001b[1;31mNameError\u001b[0m: name 'emp1' is not defined"
     ]
    }
   ],
   "source": [
    "    emp1.name = \"Armine\"\n",
    "    emp1.last = \"Gevorgyan\"\n",
    "    emp1.age = 17\n",
    "    emp1.gender = female\n",
    "    emp1.student = True or False\n",
    "    emp2.name = \"Armen\"\n",
    "    emp2.last_name = \"Grigoryan\"\n",
    "    emp2.age = 18\n",
    "    emp2.gender = male\n",
    "    emp2.student = True or False\n",
    "    "
   ]
  },
  {
   "cell_type": "code",
   "execution_count": 15,
   "metadata": {},
   "outputs": [
    {
     "name": "stdout",
     "output_type": "stream",
     "text": [
      "Welcome dear John\n",
      "Creating time is: 0.0\n",
      "Bye everyone!\n",
      "Bye everyone!\n",
      "My favourite number is 4\n",
      "My favourite number is 5\n"
     ]
    }
   ],
   "source": [
    "import time\n",
    "\n",
    "def dec(func):\n",
    "    def wrapper(*args):\n",
    "        t1 = time.time()\n",
    "        func(*args)\n",
    "        t2 = time.time()\n",
    "        print(\"Creating time is:\", t2-t1)\n",
    "    return wrapper\n",
    "class Person:\n",
    "    def __init__(self,\n",
    "                 name = 'John',\n",
    "                 last_name = 'Smith',\n",
    "                 age = 20,\n",
    "                 gender = 'male',\n",
    "                 student = True):\n",
    "        self.name = name\n",
    "        self.last_name = last_name\n",
    "        self.age = age\n",
    "        self.gender = gender\n",
    "        self.student = student\n",
    "\n",
    "    @dec\n",
    "    def greeting(self, second_person):\n",
    "        print(\"Welcome dear\", second_person.name)\n",
    "\n",
    "    def Goodbye(self):\n",
    "        print(\"Bye everyone!\")\n",
    "\n",
    "    def Favorite_num(self, num1):\n",
    "        print(\"My favourite number is\", num1)\n",
    "\n",
    "p1 = Person()\n",
    "p2 = Person()\n",
    "p2.greeting(p1)\n",
    "\n",
    "p1.Goodbye()\n",
    "p2.Goodbye()\n",
    "\n",
    "p1.Favorite_num(4)\n",
    "p1.Favorite_num(5)"
   ]
  },
  {
   "cell_type": "code",
   "execution_count": 16,
   "metadata": {},
   "outputs": [
    {
     "name": "stdout",
     "output_type": "stream",
     "text": [
      "Welcome dear John\n",
      "Bye everyone!\n",
      "Bye everyone!\n",
      "My favourite number is 4\n",
      "My favourite number is 5\n"
     ]
    }
   ],
   "source": [
    "class Person:\n",
    "    def __init__(self,\n",
    "                 name = 'John',\n",
    "                 last_name = 'Smith',\n",
    "                 age = 20,\n",
    "                 gender = 'male',\n",
    "                 student = True):\n",
    "        self.name = name\n",
    "        self.last_name = last_name\n",
    "        self.age = age\n",
    "        self.gender = gender\n",
    "        self.student = student\n",
    "\n",
    "    def greeting(self, second_person):\n",
    "        print(\"Welcome dear\", second_person.name)\n",
    "\n",
    "    def Goodbye(self):\n",
    "        print(\"Bye everyone!\")\n",
    "\n",
    "    def Favorite_num(self, num1):\n",
    "        print(\"My favourite number is\", num1)\n",
    "\n",
    "p1 = Person()\n",
    "p2 = Person()\n",
    "p2.greeting(p1)\n",
    "\n",
    "p1.Goodbye()\n",
    "p2.Goodbye()\n",
    "\n",
    "p1.Favorite_num(4)\n",
    "p1.Favorite_num(5)"
   ]
  },
  {
   "cell_type": "code",
   "execution_count": null,
   "metadata": {},
   "outputs": [],
   "source": []
  }
 ],
 "metadata": {
  "kernelspec": {
   "display_name": "Python 3",
   "language": "python",
   "name": "python3"
  },
  "language_info": {
   "codemirror_mode": {
    "name": "ipython",
    "version": 3
   },
   "file_extension": ".py",
   "mimetype": "text/x-python",
   "name": "python",
   "nbconvert_exporter": "python",
   "pygments_lexer": "ipython3",
   "version": "3.6.5"
  }
 },
 "nbformat": 4,
 "nbformat_minor": 2
}
