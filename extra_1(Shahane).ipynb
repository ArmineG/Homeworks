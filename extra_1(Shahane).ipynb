{
 "cells": [
  {
   "cell_type": "code",
   "execution_count": null,
   "metadata": {},
   "outputs": [],
   "source": [
    "import re\n",
    "\n",
    "def val():\n",
    "    while True:\n",
    "        password = input(\"Enter a password: \")\n",
    "        if len(password) < 8:\n",
    "            print(\"your password is incorrect\")\n",
    "        elif re.search('[0-9]',password) is None:\n",
    "            print(\"your password is incorrect\")\n",
    "        elif re.search('[A-Z]',password) is None: \n",
    "            print(\"your password is incorrect\")\n",
    "        else:\n",
    "            print(\"Your password seems fine\")\n",
    "            break\n",
    "\n",
    "validate()"
   ]
  },
  {
   "cell_type": "code",
   "execution_count": null,
   "metadata": {},
   "outputs": [],
   "source": []
  }
 ],
 "metadata": {
  "kernelspec": {
   "display_name": "Python 3",
   "language": "python",
   "name": "python3"
  },
  "language_info": {
   "codemirror_mode": {
    "name": "ipython",
    "version": 3
   },
   "file_extension": ".py",
   "mimetype": "text/x-python",
   "name": "python",
   "nbconvert_exporter": "python",
   "pygments_lexer": "ipython3",
   "version": "3.6.5"
  }
 },
 "nbformat": 4,
 "nbformat_minor": 2
}
